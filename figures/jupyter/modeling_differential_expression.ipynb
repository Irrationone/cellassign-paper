{
 "cells": [
  {
   "cell_type": "markdown",
   "metadata": {},
   "source": [
    "# Modeling differential expression between cell types in single cell RNA-seq data "
   ]
  },
  {
   "cell_type": "markdown",
   "metadata": {},
   "source": [
    "In order to simulate a **mixture** of cell types in single cell RNA-seq, we must first accurately model differential expression between cell types. Here, we explore and compare various models for doing so using externally and internally-annotated single cell RNA-seq data. "
   ]
  },
  {
   "cell_type": "code",
   "execution_count": 1,
   "metadata": {},
   "outputs": [
    {
     "name": "stderr",
     "output_type": "stream",
     "text": [
      "WARNING (theano.configdefaults): install mkl with `conda install mkl-service`: No module named 'mkl'\n"
     ]
    }
   ],
   "source": [
    "import numpy as np\n",
    "import pandas as pd\n",
    "import pymc3 as pm\n",
    "import scipy as sc\n",
    "import theano\n",
    "import theano.tensor as tt\n",
    "import copy\n",
    "import feather\n",
    "import re\n",
    "\n",
    "import matplotlib.pyplot as plt\n",
    "import statsmodels.stats.stattools\n",
    "import statsmodels.graphics.gofplots\n",
    "\n",
    "%matplotlib inline"
   ]
  },
  {
   "cell_type": "markdown",
   "metadata": {},
   "source": [
    "# Data description\n",
    "\n",
    "We consider the following datasets:\n",
    "\n",
    "* 10x Genomics: 68k PBMCs\n",
    "* HGSC: 5' GE from VOA11543SA (a particularly good sample with lots of cells)\n",
    "\n",
    "Cell type assignments in the 68k PBMC data were annotated in XXXX, and our data was annotated with CellAssign (selecting cells with >90% probability for that given cell type). "
   ]
  },
  {
   "cell_type": "code",
   "execution_count": 2,
   "metadata": {},
   "outputs": [],
   "source": [
    "def get_logfcs_comparison(df, type1, type2):\n",
    "    type2 = re.sub(\"[ \\+\\\\/]\", \".\", type2)\n",
    "    return(np.array(df[df.cluster == type1][\"logFC.\" + type2]))\n",
    "\n",
    "pbmc_markers = feather.read_dataframe('/datadrive/projects/cellassign-paper/intermediates/bayesian_deprob/pbmc68k_markers.feather')\n",
    "pbmc_null_logfcs = feather.read_dataframe('/datadrive/projects/cellassign-paper/intermediates/bayesian_deprob/pbmc_68k_normal_logfcs.feather')\n",
    "\n",
    "voa11543sa_markers = feather.read_dataframe('/datadrive/projects/cellassign-paper/intermediates/bayesian_deprob/VOA11543SA_markers.feather')\n",
    "voa11543sa_null_logfcs = feather.read_dataframe('/datadrive/projects/cellassign-paper/intermediates/bayesian_deprob/VOA11543SA_normal_logfcs.feather')"
   ]
  },
  {
   "cell_type": "markdown",
   "metadata": {},
   "source": [
    "# Models\n"
   ]
  },
  {
   "cell_type": "markdown",
   "metadata": {},
   "source": [
    "## null\n",
    "\n",
    "See below. We fit the null model to bootstrap resamples. "
   ]
  },
  {
   "cell_type": "code",
   "execution_count": 5,
   "metadata": {},
   "outputs": [],
   "source": [
    "def run_null_model(nulls, iter_count = 2000, tune_iters = 2000):\n",
    "    with pm.Model() as model:\n",
    "        sd_null = pm.Gamma('sd_null', alpha = .1, beta = 1.)\n",
    "        b_null = pm.Gamma('b_null', alpha = 1., beta = .1)\n",
    "        \n",
    "        dispersed_prob = pm.Beta('dispersed_prob', alpha = 1., beta = 1.)\n",
    "\n",
    "        pm.Mixture('null',\n",
    "                  comp_dists = [pm.Normal.dist(mu = 0., sd = sd_null),\n",
    "                               pm.Laplace.dist(mu = 0., b = b_null)],\n",
    "                  w = tt.as_tensor([1.-dispersed_prob, dispersed_prob]),\n",
    "                  observed = nulls)\n",
    "\n",
    "        pm.Deterministic('log_prob', model.logpt)\n",
    "\n",
    "        trace = pm.sample(iter_count, tune = tune_iters, chains = 4)\n",
    "        ppc = pm.sample_ppc(trace, samples=iter_count, model=model)\n",
    "    \n",
    "    return({'trace': trace, 'ppc': ppc})"
   ]
  },
  {
   "cell_type": "markdown",
   "metadata": {},
   "source": [
    "\n",
    "## `splatter`\n",
    "\n",
    "The current gold-standard, the `splatter` model for simulating synthetic single cell RNA-seq data (see https://genomebiology.biomedcentral.com/articles/10.1186/s13059-017-1305-0), generates data for multiple cell populations as follows:\n",
    "\n",
    "1. Generate $C$ populations at relative proportions $\\theta$\n",
    "2. $de\\_prob_{i}$ genes are differentially expressed in population $i$ (compared to baseline)\n",
    "3. If a gene is differentially expressed:\n",
    "    * its fold change, equivalent to $\\exp(\\delta_{gc})$ from the `CellAssign` model, is drawn from $\\text{Lognormal}(\\mu_{i}, \\sigma_{i})$, where $\\mu_{i} > 0$\n",
    "    * a certain proportion of DE'd genes (`down_prob`) are drawn from a separate lognormal with mean $-\\mu_i$ (and the same $\\sigma_i$)\n",
    "4. Otherwise, its fold change is set to 0\n",
    "5. Counts are simulated from a negative binomial given these fold change values and the other `splatter` parameters\n",
    "\n",
    "When drawing fold changes, it is entirely possible that a gene that's supposed to be upregulated (i.e. drawn from the lognormal with positive mean) gets a fold change of $< 1$. In this case, `splatter` uses the reciprocal of the fold change instead (or equivalently, the negative of the logFC). The same applies for upregulated genes that are supposed to be downregulated."
   ]
  },
  {
   "cell_type": "markdown",
   "metadata": {},
   "source": [
    "To model this we construct a bit of a perverse model in `pymc3` -- we consider logFC's instead, and draw the positive and negative components from an absolute value-transformed `Normal`. This isn't straightforward to do in `pymc3`, but since we can easily compute the cdf of any Gaussian and $\\text{Normal}(\\mu,\\sigma)$ and $\\text{Normal}(-\\mu,\\sigma)$ are reflections over 0, we can treat each absolute value-Gaussian as a mixture of 2 Gaussians, as follows:"
   ]
  },
  {
   "cell_type": "code",
   "execution_count": 4,
   "metadata": {},
   "outputs": [],
   "source": [
    "def splatter_model(observations, nulls, null_sd, null_b, null_dispersed_prob, iter_count = 2000, tune_iters = 2000):\n",
    "    with pm.Model() as model:\n",
    "        # Probability of being a DE gene\n",
    "        de_prob = pm.Uniform('de_prob', lower = 0., upper = 1.)\n",
    "\n",
    "        # Probability of being downregulated\n",
    "        down_prob = pm.Beta('down_prob', alpha = 1., beta = 1.)\n",
    "\n",
    "        # Mean and sd for Gaussian for non-DE genes (learned from bootstrap resampling)\n",
    "        mu_null = pm.Gamma('mu_null', alpha = 1., beta = 1.)\n",
    "        sd_null = pm.Gamma('sd_null', alpha = 1., beta = 1.)\n",
    "\n",
    "        # Mean and sd for Gaussian for DE genes\n",
    "        mu_pos = pm.Lognormal('mu_pos', mu = 0., sd = 1.)\n",
    "        mu_neg = pm.Lognormal('mu_neg', mu = 0., sd = 1.)\n",
    "\n",
    "        sd = pm.Gamma('sd', alpha = 1., beta = 1.)\n",
    "        \n",
    "        dispersed_prob = null_dispersed_prob\n",
    "        spike_component = pm.Normal.dist(mu = 0., sd = null_sd) \n",
    "        slab_component = pm.Laplace.dist(mu = 0., b = null_b)\n",
    "\n",
    "        # Sample from Gaussian-Laplace mixture for null (spike-and-slab mixture)\n",
    "        pm.Mixture('null',\n",
    "                  comp_dists = [spike_component,\n",
    "                               slab_component],\n",
    "                  w = tt.as_tensor([1.-dispersed_prob, dispersed_prob]),\n",
    "                  observed = nulls)\n",
    "\n",
    "        null_component = pm.Normal.dist(mu = mu_null,\n",
    "                                      sd = sd_null)\n",
    "        \n",
    "\n",
    "        pos_component = pm.Bound(pm.Normal, lower=0.).dist(mu=mu_pos, sd=sd)\n",
    "        neg_component = pm.Bound(pm.Normal, upper=0.).dist(mu=-1*mu_neg, sd=sd)\n",
    "        pos_component_abs = pm.Bound(pm.Normal, lower=0.).dist(mu=-1*mu_pos, sd=sd)\n",
    "        neg_component_abs = pm.Bound(pm.Normal, upper=0.).dist(mu=mu_neg, sd=sd)\n",
    "        \n",
    "        cdf_pos = cdf(mu = mu_pos, sd = sd, value = 0.)\n",
    "        cdf_neg = cdf(mu = -1*mu_neg, sd = sd, value = 0.)\n",
    "\n",
    "        pm.Mixture('obs',\n",
    "                  w = tt.as_tensor([(1.-de_prob) * (1.-dispersed_prob),\n",
    "                                    (1.-de_prob) * dispersed_prob, \n",
    "                                    de_prob * (1.-down_prob) * (1.-cdf_pos), \n",
    "                                    de_prob * down_prob * cdf_neg,\n",
    "                                    de_prob * (1.-down_prob) * cdf_pos, \n",
    "                                    de_prob * down_prob * (1.-cdf_neg)]),\n",
    "                  comp_dists = [spike_component,\n",
    "                                slab_component, \n",
    "                                pos_component, \n",
    "                                neg_component, \n",
    "                                pos_component_abs,\n",
    "                                neg_component_abs],\n",
    "                  observed = observations)\n",
    "\n",
    "        pm.Deterministic('log_prob', model.logpt)\n",
    "\n",
    "        trace = pm.sample(iter_count, tune = tune_iters, chains = 4)\n",
    "        ppc = pm.sample_ppc(trace, samples=iter_count, model=model)\n",
    "    \n",
    "    return({'trace': trace, 'ppc': ppc})"
   ]
  },
  {
   "cell_type": "markdown",
   "metadata": {},
   "source": [
    "## Our model\n",
    "\n",
    "We modify the `splatter` method by considering the following generative process for **log**FC values:\n",
    "\n",
    "We draw logFC values from the following mixture:\n",
    "\n",
    "* A null component (set to have all probability mass at 0 for simulations; but fitted as a Gaussian + Laplace mixture to bootstrap-derived logFC's from real data)\n",
    "* A positively-displaced component, $\\text{StudentT}(\\mu_{+,i}, \\sigma_{+,i}, \\nu_{+,i})$ bounded to be $\\geq 0$\n",
    "* A negatively-displaced component, $\\text{StudentT}(\\mu_{-,i}, \\sigma_{-,i}, \\nu_{-,i})$, bounded to be $\\leq 0$\n",
    "\n",
    "The rationale for this model comes from the observation that the `splatter` model does not appear to fit outlying logFC values well (underestimating them). This is particularly problematic for `CellAssign` because those outlying genes can serve as terrific marker genes."
   ]
  },
  {
   "cell_type": "code",
   "execution_count": 7,
   "metadata": {},
   "outputs": [],
   "source": [
    "def v2_model(observations, nulls, null_sd, null_b, null_dispersed_prob, iter_count = 2000, tune_iters = 2000):\n",
    "    with pm.Model() as model:\n",
    "        # Probability of being a DE gene\n",
    "        de_prob = pm.Beta('de_prob', alpha = 1., beta = 5.)\n",
    "        \n",
    "        # Probability of being downregulated\n",
    "        down_prob = pm.Beta('down_prob', alpha = 1., beta = 1.)\n",
    "        \n",
    "        dispersed_prob = null_dispersed_prob\n",
    "\n",
    "        mu_pos = pm.Lognormal('mu_pos', mu = -3, sd = 1.)\n",
    "        mu_neg = pm.Lognormal('mu_neg', mu = -3, sd = 1.) \n",
    "        sd_pos = pm.Gamma('sd_pos', alpha = 0.01, beta = 1.) \n",
    "        sd_neg = pm.Gamma('sd_neg', alpha = 0.01, beta = 1.) \n",
    "        nu_pos = pm.Gamma('nu_pos', alpha = 5., beta = 1.)\n",
    "        nu_neg = pm.Gamma('nu_neg', alpha = 5., beta = 1.)\n",
    "        \n",
    "        spike_component = pm.Normal.dist(mu = 0., sd = null_sd)\n",
    "        slab_component = pm.Laplace.dist(mu = 0., b = null_b)\n",
    "\n",
    "        # Sample from Gaussian-Laplace mixture for null (spike-and-slab mixture)\n",
    "        pm.Mixture('null',\n",
    "                  comp_dists = [spike_component,\n",
    "                               slab_component],\n",
    "                  w = tt.as_tensor([1.-dispersed_prob, dispersed_prob]),\n",
    "                  observed = nulls)\n",
    "    \n",
    "        pos_component = pm.Bound(pm.StudentT, lower = 0.).dist(mu = mu_pos, sd = sd_pos, nu = nu_pos)\n",
    "        neg_component = pm.Bound(pm.StudentT, upper = 0.).dist(mu = -mu_neg, sd = sd_neg, nu = nu_neg)\n",
    "    \n",
    "        pm.Mixture('obs',\n",
    "                  w = tt.as_tensor([(1.-de_prob) * (1.-dispersed_prob),\n",
    "                                    (1.-de_prob) * dispersed_prob,\n",
    "                                    de_prob * (1.-down_prob),\n",
    "                                   de_prob * down_prob]),\n",
    "                  comp_dists = [spike_component, slab_component, pos_component, neg_component],\n",
    "                  observed = observations)\n",
    "\n",
    "\n",
    "        pm.Deterministic('log_prob', model.logpt)\n",
    "        \n",
    "        for RV in model.basic_RVs:\n",
    "            print(RV.name, RV.logp(model.test_point))\n",
    "\n",
    "        trace = pm.sample(iter_count, tune = tune_iters, chains = 4)\n",
    "        ppc = pm.sample_ppc(trace, samples=iter_count, model=model)\n",
    "    \n",
    "    return({'trace': trace, 'ppc': ppc})"
   ]
  },
  {
   "cell_type": "markdown",
   "metadata": {},
   "source": [
    "# 68k PBMCs: naive CD4+ vs. naive CD8+\n",
    "\n",
    "Our first comparison will be naive CD4+ T cells vs. naive CD8+ T cells from the 68k PBMC data. "
   ]
  },
  {
   "cell_type": "code",
   "execution_count": 11,
   "metadata": {},
   "outputs": [],
   "source": [
    "class1 = \"Naive CD8+\"\n",
    "class2 = \"Naive CD4+\"\n",
    "\n",
    "logfcs_diff = get_logfcs_comparison(pbmc_markers, class1, class2)\n",
    "logfcs_same = np.array(pbmc_null_logfcs[(pbmc_null_logfcs['celltype'] == class1) & (pbmc_null_logfcs['permutation'] == 1)].logfc)"
   ]
  },
  {
   "cell_type": "code",
   "execution_count": 12,
   "metadata": {},
   "outputs": [
    {
     "data": {
      "image/png": "[encoded data removed]",
      "text/plain": [
       "<Figure size 432x288 with 1 Axes>"
      ]
     },
     "metadata": {},
     "output_type": "display_data"
    }
   ],
   "source": [
    "plt.hist(logfcs_diff, bins = 'auto') \n",
    "plt.title(\"logFCs (diff)\")\n",
    "#plt.yscale('log', nonposy='clip')\n",
    "plt.xlim((-0.02, 0.02))\n",
    "plt.show()"
   ]
  },
  {
   "cell_type": "code",
   "execution_count": 13,
   "metadata": {},
   "outputs": [
    {
     "data": {
      "image/png": "[encoded data removed]",
      "text/plain": [
       "<Figure size 432x288 with 1 Axes>"
      ]
     },
     "metadata": {},
     "output_type": "display_data"
    }
   ],
   "source": [
    "plt.hist(logfcs_same, bins = 'auto') \n",
    "plt.title(\"logFCs (same)\")\n",
    "#plt.yscale('log', nonposy='clip')\n",
    "plt.xlim((-0.02, 0.02))\n",
    "plt.show()"
   ]
  },
  {
   "cell_type": "markdown",
   "metadata": {},
   "source": [
    "The bottom plot represents the null distribution of logFC's (using bootstrap resamples from naive CD8+'s), and the top plot shows the logFC's for all genes."
   ]
  },
  {
   "cell_type": "markdown",
   "metadata": {},
   "source": [
    "## Fitting null parameters\n",
    "\n",
    "We first need to fit null parameters $\\sigma$ (for the Normal component), $b$ (for the Laplace component), and `dispersed_prob` (the contribution of the Laplace component relative to the Normal one)."
   ]
  },
  {
   "cell_type": "code",
   "execution_count": null,
   "metadata": {},
   "outputs": [
    {
     "name": "stderr",
     "output_type": "stream",
     "text": [
      "Auto-assigning NUTS sampler...\n",
      "Initializing NUTS using jitter+adapt_diag...\n",
      "Multiprocess sampling (4 chains in 4 jobs)\n",
      "NUTS: [dispersed_prob, b_null, sd_null]\n",
      "Sampling 4 chains:  33%|███▎      | 7945/24000 [00:45<00:56, 284.12draws/s]"
     ]
    }
   ],
   "source": [
    "pbmc_cd4_cd8_null = run_null_model(logfcs_same, iter_count=4000, tune_iters = 2000)"
   ]
  },
  {
   "cell_type": "code",
   "execution_count": null,
   "metadata": {},
   "outputs": [],
   "source": [
    "pm.traceplot(pbmc_cd4_cd8_null)"
   ]
  }
 ],
 "metadata": {
  "kernelspec": {
   "display_name": "Python 3",
   "language": "python",
   "name": "python3"
  },
  "language_info": {
   "codemirror_mode": {
    "name": "ipython",
    "version": 3
   },
   "file_extension": ".py",
   "mimetype": "text/x-python",
   "name": "python",
   "nbconvert_exporter": "python",
   "pygments_lexer": "ipython3",
   "version": "3.6.5"
  }
 },
 "nbformat": 4,
 "nbformat_minor": 2
}
