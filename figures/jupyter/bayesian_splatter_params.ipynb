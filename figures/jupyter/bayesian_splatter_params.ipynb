{
 "cells": [
  {
   "cell_type": "code",
   "execution_count": 1,
   "metadata": {},
   "outputs": [
    {
     "name": "stderr",
     "output_type": "stream",
     "text": [
      "WARNING (theano.configdefaults): install mkl with `conda install mkl-service`: No module named 'mkl'\n"
     ]
    }
   ],
   "source": [
    "import numpy as np\n",
    "import pandas as pd\n",
    "import pymc3 as pm\n",
    "import theano\n",
    "import theano.tensor as tt\n",
    "import copy\n",
    "import feather\n",
    "import re\n",
    "\n",
    "import matplotlib.pyplot as plt\n",
    "import statsmodels.stats.stattools\n",
    "\n",
    "%matplotlib inline"
   ]
  },
  {
   "cell_type": "code",
   "execution_count": 5,
   "metadata": {},
   "outputs": [],
   "source": [
    "def get_logfcs_comparison(df, type1, type2):\n",
    "    type2 = re.sub(\"[ \\+]\", \".\", type2)\n",
    "    return(np.array(df[df.cluster == type1][\"logFC.\" + type2]))\n",
    "\n",
    "def plot_posterior_predictive(ppc, fun1 = lambda x: np.mean(x, axis = 1), \n",
    "                              fun2 = lambda x: np.mean(x),\n",
    "                              xlab = \"mean(x)\",\n",
    "                             title = \"Posterior predictive of mean\"):\n",
    "    _, ax = plt.subplots(figsize=(12, 6))\n",
    "    ax.hist(fun1(ppc['obs']), bins=20, alpha=0.5)\n",
    "    ax.axvline(fun2(observations))\n",
    "    ax.set(title=title, xlabel=xlab, ylabel='Frequency');"
   ]
  },
  {
   "cell_type": "code",
   "execution_count": 3,
   "metadata": {},
   "outputs": [],
   "source": [
    "sce_markers = feather.read_dataframe('/datadrive/projects/cellassign-analysis/temp/pbmc68k_markers.feather')\n",
    "sce_null_logfcs = feather.read_dataframe('/datadrive/projects/cellassign-analysis/temp/pbmc_68k_normal_logfcs.feather')"
   ]
  },
  {
   "cell_type": "code",
   "execution_count": 6,
   "metadata": {},
   "outputs": [],
   "source": [
    "class1 = \"Naive CD8+\"\n",
    "class2 = \"Naive CD4+\"\n",
    "\n",
    "logfcs_diff = get_logfcs_comparison(sce_markers, class1, class2)\n",
    "logfcs_same = np.array(sce_null_logfcs[(sce_null_logfcs['celltype'] == class2) & (sce_null_logfcs['permutation'] == 1)].logfc)"
   ]
  },
  {
   "cell_type": "code",
   "execution_count": null,
   "metadata": {},
   "outputs": [
    {
     "name": "stderr",
     "output_type": "stream",
     "text": [
      "Auto-assigning NUTS sampler...\n",
      "Initializing NUTS using jitter+adapt_diag...\n",
      "Multiprocess sampling (4 chains in 20 jobs)\n",
      "NUTS: [sd, mu_neg, mu_pos, logmu_s, logmu, sd_null, mu_null, down_prob, de_prob]\n",
      "Sampling 4 chains:  16%|█▌        | 3134/20000 [00:59<01:58, 142.92draws/s]"
     ]
    }
   ],
   "source": [
    "iter_count = 4000\n",
    "tune_iters = 1000\n",
    "\n",
    "observations = logfcs_diff\n",
    "nulls = logfcs_same\n",
    "\n",
    "with pm.Model() as model:\n",
    "    # Probability of being a DE gene\n",
    "    de_prob = pm.Uniform('de_prob', lower = 0., upper = 1.)\n",
    "    \n",
    "    # Probability of being downregulated\n",
    "    down_prob = pm.Beta('down_prob', alpha = 1., beta = 1.)\n",
    "    \n",
    "    # Mean and sd for Gaussian for non-DE genes (learned from bootstrap resampling)\n",
    "    mu_null = pm.Gamma('mu_null', alpha = 1., beta = 1.)\n",
    "    sd_null = pm.Gamma('sd_null', alpha = 1., beta = 1.)\n",
    "    \n",
    "    # Mean and sd for Gaussian for DE genes\n",
    "    \n",
    "    ## Shrinkage prior on log(mu)\n",
    "    logmu = pm.Normal('logmu', mu = 0, sd = 1.)\n",
    "    logmu_s = pm.Gamma('logmu_s', alpha = 1., beta = 5.)\n",
    "    \n",
    "    mu_pos = pm.Lognormal('mu_pos', mu = logmu, sd = logmu_s)\n",
    "    mu_neg = pm.Lognormal('mu_neg', mu = logmu, sd = logmu_s)\n",
    "    \n",
    "    sd = pm.Gamma('sd', alpha = 1., beta = 1.)\n",
    "    \n",
    "    # Sample from Gaussian for null\n",
    "    pm.Normal('null',\n",
    "             mu = mu_null,\n",
    "             sd = sd_null,\n",
    "             observed = nulls)\n",
    "    \n",
    "    null_component = pm.Normal.dist(mu = mu_null,\n",
    "                                  sd = sd_null)\n",
    "    \n",
    "    pos_component = pm.Bound(pm.Normal, lower=0.).dist(mu=mu_pos, sd=sd)\n",
    "    neg_component = pm.Bound(pm.Normal, upper=0.).dist(mu=-1*mu_neg, sd=sd)\n",
    "\n",
    "    pm.Mixture('obs',\n",
    "              w = tt.as_tensor([(1-de_prob), de_prob * (1-down_prob), de_prob * down_prob]),\n",
    "              comp_dists = [null_component, pos_component, neg_component],\n",
    "              observed = observations)\n",
    "    \n",
    "    pm.Deterministic('log_prob', model.logpt)\n",
    "\n",
    "    trace = pm.sample(iter_count, tune = tune_iters, chains = 4, cores = 20)\n",
    "    ppc = pm.sample_ppc(trace, samples=2000, model=model)\n"
   ]
  },
  {
   "cell_type": "code",
   "execution_count": null,
   "metadata": {},
   "outputs": [],
   "source": [
    "pm.plots.traceplot(trace)"
   ]
  },
  {
   "cell_type": "code",
   "execution_count": null,
   "metadata": {},
   "outputs": [],
   "source": [
    "plot_posterior_predictive(ppc, fun1 = lambda x: np.mean(x, axis = 1), \n",
    "                          fun2 = lambda x: np.mean(x), \n",
    "                          xlab = \"mean(x)\",\n",
    "                          title = \"Posterior predictive of mean\")"
   ]
  },
  {
   "cell_type": "code",
   "execution_count": null,
   "metadata": {},
   "outputs": [],
   "source": [
    "plot_posterior_predictive(ppc, fun1 = lambda x: np.var(x, axis = 1), \n",
    "                          fun2 = lambda x: np.var(x), \n",
    "                          xlab = \"var(x)\",\n",
    "                          title = \"Posterior predictive of variance\")"
   ]
  },
  {
   "cell_type": "code",
   "execution_count": null,
   "metadata": {},
   "outputs": [],
   "source": [
    "plot_posterior_predictive(ppc, fun1 = lambda x: statsmodels.stats.stattools.robust_skewness(x, axis = 1)[3], \n",
    "                          fun2 = lambda x: statsmodels.stats.stattools.robust_skewness(x)[3], \n",
    "                          xlab = \"skew(x)\",\n",
    "                          title = \"Posterior predictive of robust skewness\")"
   ]
  }
 ],
 "metadata": {
  "kernelspec": {
   "display_name": "Python 3",
   "language": "python",
   "name": "python3"
  },
  "language_info": {
   "codemirror_mode": {
    "name": "ipython",
    "version": 3
   },
   "file_extension": ".py",
   "mimetype": "text/x-python",
   "name": "python",
   "nbconvert_exporter": "python",
   "pygments_lexer": "ipython3",
   "version": "3.6.5"
  }
 },
 "nbformat": 4,
 "nbformat_minor": 2
}
